{
 "cells": [
  {
   "cell_type": "markdown",
   "metadata": {
    "colab": {},
    "colab_type": "code",
    "id": "n5CbQvuoolV3"
   },
   "source": [
    "# PART2\n",
    "\n",
    "# In this part we will try to predict if applicant will get the job or not.\n",
    "# We will inspect applications. \n",
    "# There are 3 main parts of application;\n",
    "  # - Job, Resume, Result\n",
    "# In the previous part, We just converted each job and resume into a vector.\n",
    "# In this part, I will concatenate job and resume vector of each aplication and this vector will be our features vector. Then, result of application will \n",
    "  # be the label.\n",
    "# Finally, I will feed this dataframe into random forest model and do cross validation with cv=3 parameter and see the average accuracy.\n",
    "\n",
    "# IMPORTAN NOTE\n",
    "\n",
    "  # Since, the dataset is too big for my computer to run, I will use the 500 samples of the dataset to run my code. "
   ]
  },
  {
   "cell_type": "code",
   "execution_count": 0,
   "metadata": {
    "colab": {},
    "colab_type": "code",
    "id": "hH8nADR_2w1K"
   },
   "outputs": [],
   "source": [
    "import pandas as pd\n",
    "import random\n",
    "import numpy as np\n",
    "import pickle\n",
    "import dbm\n",
    "\n",
    "# I just saved the arrays and needed information (reference number of cv, job id and label) as db file from previous part and uploaded here to work on it.\n",
    "  # Just trying to save same ram.\n",
    "  \n",
    "def create_database(filename, datas):\n",
    "    db = dbm.open(filename, 'c')\n",
    "    db[\"list\"] = pickle.dumps(datas)\n",
    "    \n",
    "def read_from_db(filename):\n",
    "    db = dbm.open(filename, 'r')\n",
    "    m = pickle.loads(db[\"list\"])\n",
    "    return m"
   ]
  },
  {
   "cell_type": "code",
   "execution_count": 3,
   "metadata": {
    "colab": {
     "base_uri": "https://localhost:8080/",
     "height": 34
    },
    "colab_type": "code",
    "id": "xvgoX_k5QvJh",
    "outputId": "c0d3e747-bc39-404e-afe7-1dbb82dd8243"
   },
   "outputs": [
    {
     "name": "stdout",
     "output_type": "stream",
     "text": [
      "Drive already mounted at /content/drive; to attempt to forcibly remount, call drive.mount(\"/content/drive\", force_remount=True).\n"
     ]
    }
   ],
   "source": [
    "from google.colab import drive\n",
    "drive.mount('/content/drive')"
   ]
  },
  {
   "cell_type": "code",
   "execution_count": 4,
   "metadata": {
    "colab": {
     "base_uri": "https://localhost:8080/",
     "height": 34
    },
    "colab_type": "code",
    "id": "LOp7RMZI6B-J",
    "outputId": "d1452f81-6b8d-4685-e587-bc2a5b30fa7a"
   },
   "outputs": [
    {
     "data": {
      "text/plain": [
       "(3753, 48, 1)"
      ]
     },
     "execution_count": 4,
     "metadata": {
      "tags": []
     },
     "output_type": "execute_result"
    }
   ],
   "source": [
    "dictionary = read_from_db('/content/drive/My Drive/NLP_Assignment/dictionary')\n",
    "# My dictionary is consist of,\n",
    "  # - countvectorizer matrice of resumes\n",
    "  # - countvectorizer matrice of jobs\n",
    "  # - tfidf matrice of resumes\n",
    "  # - tfidf matrice of jobs\n",
    "  # - information list which is basically tell me the index of cv and job in the matrices for each application so that i can call them and merge them. finally, the label\n",
    "\n",
    "dictionary['applications'][0]"
   ]
  },
  {
   "cell_type": "code",
   "execution_count": 0,
   "metadata": {
    "colab": {},
    "colab_type": "code",
    "id": "U-_MrDAQ2w1b"
   },
   "outputs": [],
   "source": [
    "tf_allresume = dictionary['tfidf_cv']\n",
    "tf_jobs = dictionary['tfidf_jobs']\n",
    "\n",
    "info_list = dictionary['applications']\n",
    "\n",
    "cv_allresume = dictionary['count_vec_cv']\n",
    "cv_jobs = dictionary['count_vec_job']\n",
    "del dictionary"
   ]
  },
  {
   "cell_type": "code",
   "execution_count": 0,
   "metadata": {
    "colab": {},
    "colab_type": "code",
    "id": "q0q9j4F36I6E"
   },
   "outputs": [],
   "source": [
    "dataframe = []"
   ]
  },
  {
   "cell_type": "code",
   "execution_count": 7,
   "metadata": {
    "colab": {
     "base_uri": "https://localhost:8080/",
     "height": 34
    },
    "colab_type": "code",
    "id": "Gg2MGYsmQEoe",
    "outputId": "89dbff7b-98f7-4a0d-8f5a-39264747e480"
   },
   "outputs": [
    {
     "data": {
      "text/plain": [
       "9549"
      ]
     },
     "execution_count": 7,
     "metadata": {
      "tags": []
     },
     "output_type": "execute_result"
    }
   ],
   "source": [
    "len(info_list)"
   ]
  },
  {
   "cell_type": "code",
   "execution_count": 0,
   "metadata": {
    "colab": {},
    "colab_type": "code",
    "id": "z4_nJvJXQHKj"
   },
   "outputs": [],
   "source": [
    "sample_app = random.sample(info_list,500)"
   ]
  },
  {
   "cell_type": "code",
   "execution_count": 0,
   "metadata": {
    "colab": {},
    "colab_type": "code",
    "id": "Dre4Tgkj2w1g"
   },
   "outputs": [],
   "source": [
    "\n",
    "for i in sample_app:\n",
    "    cv = tf_allresume[i[0]].toarray()[0]\n",
    "    job = tf_jobs[i[1]].toarray()[0]\n",
    "    \n",
    "    label = np.array([i[2]])\n",
    "    merged = [*cv,*job,*label]\n",
    "    dataframe.append(merged)"
   ]
  },
  {
   "cell_type": "code",
   "execution_count": 0,
   "metadata": {
    "colab": {},
    "colab_type": "code",
    "id": "X30nyIS8XIrg"
   },
   "outputs": [],
   "source": [
    "df = pd.DataFrame(dataframe)"
   ]
  },
  {
   "cell_type": "code",
   "execution_count": 0,
   "metadata": {
    "colab": {},
    "colab_type": "code",
    "id": "o5ZBUiAv2w1k"
   },
   "outputs": [],
   "source": [
    "x = df.iloc[:,:-1]\n",
    "y = df.iloc[:,-1:]\n",
    "del df"
   ]
  },
  {
   "cell_type": "code",
   "execution_count": 0,
   "metadata": {
    "colab": {},
    "colab_type": "code",
    "id": "5LEoPi0eW-pL"
   },
   "outputs": [],
   "source": [
    " from sklearn.ensemble import RandomForestClassifier\n",
    " from sklearn.model_selection import cross_val_score"
   ]
  },
  {
   "cell_type": "code",
   "execution_count": 0,
   "metadata": {
    "colab": {},
    "colab_type": "code",
    "id": "FhU8mMHsYOtr"
   },
   "outputs": [],
   "source": [
    "rf = RandomForestClassifier()"
   ]
  },
  {
   "cell_type": "code",
   "execution_count": 14,
   "metadata": {
    "colab": {
     "base_uri": "https://localhost:8080/",
     "height": 139
    },
    "colab_type": "code",
    "id": "l6D17LfYYmwh",
    "outputId": "bf7aca5b-c1e7-41d8-b34f-2cb3767c1fd2"
   },
   "outputs": [
    {
     "name": "stderr",
     "output_type": "stream",
     "text": [
      "/usr/local/lib/python3.6/dist-packages/sklearn/model_selection/_validation.py:515: DataConversionWarning: A column-vector y was passed when a 1d array was expected. Please change the shape of y to (n_samples,), for example using ravel().\n",
      "  estimator.fit(X_train, y_train, **fit_params)\n",
      "/usr/local/lib/python3.6/dist-packages/sklearn/model_selection/_validation.py:515: DataConversionWarning: A column-vector y was passed when a 1d array was expected. Please change the shape of y to (n_samples,), for example using ravel().\n",
      "  estimator.fit(X_train, y_train, **fit_params)\n",
      "/usr/local/lib/python3.6/dist-packages/sklearn/model_selection/_validation.py:515: DataConversionWarning: A column-vector y was passed when a 1d array was expected. Please change the shape of y to (n_samples,), for example using ravel().\n",
      "  estimator.fit(X_train, y_train, **fit_params)\n"
     ]
    }
   ],
   "source": [
    "accuracy = cross_val_score(rf,x,y,cv=3).mean()"
   ]
  },
  {
   "cell_type": "code",
   "execution_count": 15,
   "metadata": {
    "colab": {
     "base_uri": "https://localhost:8080/",
     "height": 34
    },
    "colab_type": "code",
    "id": "vXNpH81FZIJw",
    "outputId": "41a95ef1-fb58-4572-fe8b-9505b3096f4f"
   },
   "outputs": [
    {
     "data": {
      "text/plain": [
       "0.6280090421566505"
      ]
     },
     "execution_count": 15,
     "metadata": {
      "tags": []
     },
     "output_type": "execute_result"
    }
   ],
   "source": [
    "# accuracy of cv=3 crossvalidation for tfidf vectors\n",
    "accuracy"
   ]
  },
  {
   "cell_type": "code",
   "execution_count": 0,
   "metadata": {
    "colab": {},
    "colab_type": "code",
    "id": "gX4GVjMoZQpf"
   },
   "outputs": [],
   "source": [
    "del x\n",
    "del y\n",
    "del rf"
   ]
  },
  {
   "cell_type": "code",
   "execution_count": 0,
   "metadata": {
    "colab": {},
    "colab_type": "code",
    "id": "OtiDU8Q7b3p5"
   },
   "outputs": [],
   "source": [
    "dataframe = []\n",
    "for i in sample_app:\n",
    "    cv = cv_allresume[i[0]].toarray()[0]\n",
    "    job = cv_jobs[i[1]].toarray()[0]\n",
    "    \n",
    "    label = np.array([i[2]])\n",
    "    merged = [*cv,*job,*label]\n",
    "    dataframe.append(merged)"
   ]
  },
  {
   "cell_type": "code",
   "execution_count": 0,
   "metadata": {
    "colab": {},
    "colab_type": "code",
    "id": "7kDWXTQUdYar"
   },
   "outputs": [],
   "source": [
    "df = pd.DataFrame(dataframe)"
   ]
  },
  {
   "cell_type": "code",
   "execution_count": 0,
   "metadata": {
    "colab": {},
    "colab_type": "code",
    "id": "6-rtb81UegJK"
   },
   "outputs": [],
   "source": [
    "x = df.iloc[:,:-1]\n",
    "y = df.iloc[:,-1:]\n",
    "del df"
   ]
  },
  {
   "cell_type": "code",
   "execution_count": 0,
   "metadata": {
    "colab": {},
    "colab_type": "code",
    "id": "_iHHOagYeh7r"
   },
   "outputs": [],
   "source": [
    "rf = RandomForestClassifier()"
   ]
  },
  {
   "cell_type": "code",
   "execution_count": 21,
   "metadata": {
    "colab": {
     "base_uri": "https://localhost:8080/",
     "height": 139
    },
    "colab_type": "code",
    "id": "Ws3IHHPRel3j",
    "outputId": "20c7676e-14d1-42bc-99fe-385fec2eabb6"
   },
   "outputs": [
    {
     "name": "stderr",
     "output_type": "stream",
     "text": [
      "/usr/local/lib/python3.6/dist-packages/sklearn/model_selection/_validation.py:515: DataConversionWarning: A column-vector y was passed when a 1d array was expected. Please change the shape of y to (n_samples,), for example using ravel().\n",
      "  estimator.fit(X_train, y_train, **fit_params)\n",
      "/usr/local/lib/python3.6/dist-packages/sklearn/model_selection/_validation.py:515: DataConversionWarning: A column-vector y was passed when a 1d array was expected. Please change the shape of y to (n_samples,), for example using ravel().\n",
      "  estimator.fit(X_train, y_train, **fit_params)\n",
      "/usr/local/lib/python3.6/dist-packages/sklearn/model_selection/_validation.py:515: DataConversionWarning: A column-vector y was passed when a 1d array was expected. Please change the shape of y to (n_samples,), for example using ravel().\n",
      "  estimator.fit(X_train, y_train, **fit_params)\n"
     ]
    }
   ],
   "source": [
    "accuracy = cross_val_score(rf,x,y,cv=3).mean()"
   ]
  },
  {
   "cell_type": "code",
   "execution_count": 22,
   "metadata": {
    "colab": {
     "base_uri": "https://localhost:8080/",
     "height": 34
    },
    "colab_type": "code",
    "id": "QmPstkPMeoQK",
    "outputId": "2908da14-d13e-41dc-e513-36b4ea1db525"
   },
   "outputs": [
    {
     "data": {
      "text/plain": [
       "0.6320010581247143"
      ]
     },
     "execution_count": 22,
     "metadata": {
      "tags": []
     },
     "output_type": "execute_result"
    }
   ],
   "source": [
    "# accuracy of cv=3 crossvalidation for countvectorizer vectors\n",
    "accuracy"
   ]
  },
  {
   "cell_type": "code",
   "execution_count": 0,
   "metadata": {
    "colab": {},
    "colab_type": "code",
    "id": "jU_L1YA_eo84"
   },
   "outputs": [],
   "source": []
  }
 ],
 "metadata": {
  "colab": {
   "collapsed_sections": [],
   "machine_shape": "hm",
   "name": "part2_.ipynb",
   "provenance": []
  },
  "kernelspec": {
   "display_name": "Python 3",
   "language": "python",
   "name": "python3"
  },
  "language_info": {
   "codemirror_mode": {
    "name": "ipython",
    "version": 3
   },
   "file_extension": ".py",
   "mimetype": "text/x-python",
   "name": "python",
   "nbconvert_exporter": "python",
   "pygments_lexer": "ipython3",
   "version": "3.7.4"
  }
 },
 "nbformat": 4,
 "nbformat_minor": 1
}
