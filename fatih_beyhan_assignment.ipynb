{
 "cells": [
  {
   "cell_type": "code",
   "execution_count": 1,
   "metadata": {
    "colab": {},
    "colab_type": "code",
    "id": "scgwbCIVT3Wg"
   },
   "outputs": [],
   "source": [
    "import pandas as pd\n",
    "import numpy as np\n",
    "import nltk\n",
    "import re\n",
    "from sklearn.feature_extraction.text import CountVectorizer\n",
    "from sklearn.feature_extraction.text import TfidfVectorizer\n",
    "from nltk.corpus import stopwords\n",
    "sw = stopwords.words('turkish')\n",
    "# https://github.com/otuncelli/turkish-stemmer-python\n",
    "#!pip install TurkishStemmer\n",
    "from TurkishStemmer import TurkishStemmer\n",
    "stemmer = TurkishStemmer()"
   ]
  },
  {
   "cell_type": "markdown",
   "metadata": {
    "colab_type": "text",
    "id": "Cux6U54jT3Wo"
   },
   "source": [
    "\n",
    "## 1- Read the dataset and parse it.\n",
    "\n",
    "#     ------------------------------------------------------------------\n",
    "\n",
    "## 2- For a CV (cv_listesi.xlsx), encode it using  count vectorizer,\n",
    "##     then tfidf vectorizer,\n",
    "##     then RNNs, document2vec  \n",
    "\n",
    "#     ------------------------------------------------------------------\n",
    "\n",
    "## 3- For a job ad (ilan_icerikleri.xlsx), encode it using  count vectorizer, \n",
    "##     then tfidf vectorizer,\n",
    "##     then RNNs, document2vec \n",
    "\n",
    "#     ------------------------------------------------------------------\n"
   ]
  },
  {
   "cell_type": "markdown",
   "metadata": {
    "colab_type": "text",
    "id": "Ta8QajenT3Wq"
   },
   "source": [
    "# ____________________________________\n",
    "# Part1:\n",
    "\n",
    "# _Read and Parse Data_"
   ]
  },
  {
   "cell_type": "markdown",
   "metadata": {
    "colab_type": "text",
    "id": "X1hfZQlLT3Wr"
   },
   "source": [
    "### First of all I will create a person class to make build an object for each person, therefore, it will be quite easier to work with this data. Then I will check some basics of data and then create one big text for each person which is consist of cleaned resume and cleaned skills of person. After all, our data frame will be two columns; ID and AllResume. I will be ready to feed this dataframe into CountVectorizer and TFIDF! \n",
    "\n",
    "### After these steps I will use the same methodology for jobs data!\n"
   ]
  },
  {
   "cell_type": "code",
   "execution_count": 2,
   "metadata": {},
   "outputs": [],
   "source": [
    "CVS = pd.read_excel('data/cv_list.xlsx')"
   ]
  },
  {
   "cell_type": "code",
   "execution_count": 3,
   "metadata": {
    "colab": {},
    "colab_type": "code",
    "id": "Z1Cez34AT3Wy"
   },
   "outputs": [],
   "source": [
    "class Person:\n",
    "    def __init__(self,ref,resume_all):\n",
    "        self.ref = ref\n",
    "        self.resume_all = resume_all"
   ]
  },
  {
   "cell_type": "code",
   "execution_count": 4,
   "metadata": {
    "colab": {},
    "colab_type": "code",
    "id": "XO7jHOraT3W5"
   },
   "outputs": [],
   "source": [
    "people = {}"
   ]
  },
  {
   "cell_type": "code",
   "execution_count": 5,
   "metadata": {
    "colab": {
     "base_uri": "https://localhost:8080/",
     "height": 34
    },
    "colab_type": "code",
    "id": "6DkvWKT5T3XC",
    "outputId": "6dd5690f-586f-4aab-c28b-71aae62818fb"
   },
   "outputs": [
    {
     "data": {
      "text/plain": [
       "8012"
      ]
     },
     "execution_count": 5,
     "metadata": {},
     "output_type": "execute_result"
    }
   ],
   "source": [
    "len(CVS)"
   ]
  },
  {
   "cell_type": "code",
   "execution_count": 6,
   "metadata": {
    "colab": {},
    "colab_type": "code",
    "id": "rflbTi64T3XK"
   },
   "outputs": [],
   "source": [
    "for index in range(len(CVS)):\n",
    "    person = CVS.iloc[index:index+1,:]\n",
    "    \n",
    "    Ref = person.RefNumber[index]\n",
    "    Resume_all = person.ResumeAll[index]\n",
    "    \n",
    "    person_object = Person(Ref,Resume_all)\n",
    "    people[Ref] = person_object\n",
    "del CVS "
   ]
  },
  {
   "cell_type": "code",
   "execution_count": 7,
   "metadata": {
    "colab": {
     "base_uri": "https://localhost:8080/",
     "height": 34
    },
    "colab_type": "code",
    "id": "syS2tLLxT3XQ",
    "outputId": "c74f2aa7-63af-4681-dfb0-69ad402b6e44"
   },
   "outputs": [
    {
     "data": {
      "text/plain": [
       "8012"
      ]
     },
     "execution_count": 7,
     "metadata": {},
     "output_type": "execute_result"
    }
   ],
   "source": [
    "len(people) # all of the persons are turned into an object!"
   ]
  },
  {
   "cell_type": "code",
   "execution_count": 8,
   "metadata": {
    "colab": {},
    "colab_type": "code",
    "id": "judn9tjzT3Xl"
   },
   "outputs": [],
   "source": [
    "example_person = people[13693]"
   ]
  },
  {
   "cell_type": "code",
   "execution_count": 9,
   "metadata": {},
   "outputs": [
    {
     "data": {
      "text/plain": [
       "'<p>48 km 2x3 şeritli karayolu yapımı, toplam 2 x 10.080 m uzunluğunda 21 viyadük, toplam 1600 m uzunluğunda 2 çift tüp tünel, 9 adet kavşak, 15 alt ve üst geçit yapım işinde Kalite, Çevre ve İş Güvenliği Şefi olarak görev yaptım.</p> Office  Profosyonel, Link (Personel ve stok kontrol üniteleri), internet, MRP, ERP, Paket bazı özel programlar. <p>Yönetici olarak şirket için çalışmak, Yönetim Bilimleri, Kalite, İş Güvenliği, Çevre Yönetimi, Teknik ve İnsan Kaynakları bilgi, deneyim,\\n</p><p>yetenek ve becerilerimi kullanmak.</p>,<p>Turizm / Tekirdağ\\'da turizm sektörü için hediye malzemeleri üretmekte olan işyerinde Fabrika müdürü olarak çalıştım.\\xa0</p><p><span style=\"letter-spacing: 0px\">Benim üretim, malzeme planlama, insan kaynakları, kalite ve diğer idari işlemlerde yetki sahibyidim.</span><br></p> Office  Profosyonel, Link (Personel ve stok kontrol üniteleri), internet, MRP, ERP, Paket bazı özel programlar. <p>Yönetici olarak şirket için çalışmak, Yönetim Bilimleri, Kalite, İş Güvenliği, Çevre Yönetimi, Teknik ve İnsan Kaynakları bilgi, deneyim,\\n</p><p>yetenek ve becerilerimi kullanmak.</p>,400 m3/saat kapasiteli 3 adet beton santarlinin tüm üretim ve kalite kontrol faaliyetlerini yerine getirmek. Hakedeiş ve proje teslimi için gerekli kalite kontrol evraklarını hazırlamak, Türkmenistan Standartlar Enstitüsü tarfından onaylanmış beton santrali laboratuvarındaki deneyleri yaptırmak, raporları TDS ve diğer resmi kurumlara sunmak. Office  Profosyonel, Link (Personel ve stok kontrol üniteleri), internet, MRP, ERP, Paket bazı özel programlar. <p>Yönetici olarak şirket için çalışmak, Yönetim Bilimleri, Kalite, İş Güvenliği, Çevre Yönetimi, Teknik ve İnsan Kaynakları bilgi, deneyim,\\n</p><p>yetenek ve becerilerimi kullanmak.</p>,A Sınıfı İş Güvenliği Uzmanı oarak görev yapıtm. Office  Profosyonel, Link (Personel ve stok kontrol üniteleri), internet, MRP, ERP, Paket bazı özel programlar. <p>Yönetici olarak şirket için çalışmak, Yönetim Bilimleri, Kalite, İş Güvenliği, Çevre Yönetimi, Teknik ve İnsan Kaynakları bilgi, deneyim,\\n</p><p>yetenek ve becerilerimi kullanmak.</p>,Denim kumaştan pantalon ve gömlek üretimi yapan şirkette tüm işletmeden sorumlu işletme müdürü olarak görev yaptım. Office  Profosyonel, Link (Personel ve stok kontrol üniteleri), internet, MRP, ERP, Paket bazı özel programlar. <p>Yönetici olarak şirket için çalışmak, Yönetim Bilimleri, Kalite, İş Güvenliği, Çevre Yönetimi, Teknik ve İnsan Kaynakları bilgi, deneyim,\\n</p><p>yetenek ve becerilerimi kullanmak.</p>,DİNATEKS, LEVİS, WRANGLER LEE ABBATE...VB BELLİ BAŞLI FİRMANIN AVRUPUADAKİ EN BÜYÜK GÖMLEK DİKEN TAŞERONUDUR. SİSTEMİ BELGELENDİRMEK. Office  Profosyonel, Link (Personel ve stok kontrol üniteleri), internet, MRP, ERP, Paket bazı özel programlar. <p>Yönetici olarak şirket için çalışmak, Yönetim Bilimleri, Kalite, İş Güvenliği, Çevre Yönetimi, Teknik ve İnsan Kaynakları bilgi, deneyim,\\n</p><p>yetenek ve becerilerimi kullanmak.</p>,Dört adet (Toplamda beş adettir.) taşkın önleme barajı ve su kanallarının inşaat aşmasındaki kontrol işlemlerinin yapılmasını ve raporlanmasını sağlamak. Office  Profosyonel, Link (Personel ve stok kontrol üniteleri), internet, MRP, ERP, Paket bazı özel programlar. <p>Yönetici olarak şirket için çalışmak, Yönetim Bilimleri, Kalite, İş Güvenliği, Çevre Yönetimi, Teknik ve İnsan Kaynakları bilgi, deneyim,\\n</p><p>yetenek ve becerilerimi kullanmak.</p>,Enerji dışı veri iletim, kontrol ve kumanda kablo imalatı yapan 2M Kablo (www.2mkab.com) Kalite, Teknik ve İK Müdürülüklerini birlikte yürüttüm. Office  Profosyonel, Link (Personel ve stok kontrol üniteleri), internet, MRP, ERP, Paket bazı özel programlar. <p>Yönetici olarak şirket için çalışmak, Yönetim Bilimleri, Kalite, İş Güvenliği, Çevre Yönetimi, Teknik ve İnsan Kaynakları bilgi, deneyim,\\n</p><p>yetenek ve becerilerimi kullanmak.</p>,GÜRİŞ Libya projelerindeki tüm kalite, isg, çevre ve dokümantasyon faaliyetlerini koordine etmek.  Office  Profosyonel, Link (Personel ve stok kontrol üniteleri), internet, MRP, ERP, Paket bazı özel programlar. <p>Yönetici olarak şirket için çalışmak, Yönetim Bilimleri, Kalite, İş Güvenliği, Çevre Yönetimi, Teknik ve İnsan Kaynakları bilgi, deneyim,\\n</p><p>yetenek ve becerilerimi kullanmak.</p>,İnsan Kaynakları ve İdari İşler Yönetimi. Personel seçme, yerleştirme, ssk ve diğer yasal işlemler, ücretlendirme, tahakkuk ve ayrıca ünüte bazında personel planlaması (bant vb.) Office  Profosyonel, Link (Personel ve stok kontrol üniteleri), internet, MRP, ERP, Paket bazı özel programlar. <p>Yönetici olarak şirket için çalışmak, Yönetim Bilimleri, Kalite, İş Güvenliği, Çevre Yönetimi, Teknik ve İnsan Kaynakları bilgi, deneyim,\\n</p><p>yetenek ve becerilerimi kullanmak.</p>,LÜLEBURGAZ VE KIRLARELİNDEKİ İKİ FABRİKAYI ISO 9002 VE SAĞLIK BAKANLIĞININ ÜRÜN RUHSATINA (GMP)HAZIRLAMAK VE BELGELEMEK. Office  Profosyonel, Link (Personel ve stok kontrol üniteleri), internet, MRP, ERP, Paket bazı özel programlar. <p>Yönetici olarak şirket için çalışmak, Yönetim Bilimleri, Kalite, İş Güvenliği, Çevre Yönetimi, Teknik ve İnsan Kaynakları bilgi, deneyim,\\n</p><p>yetenek ve becerilerimi kullanmak.</p>,Mutfak, banyo, tuvalet ve diğer sıhhi tesisat batarya ve ekleme malzemeleri, LPG dedantör, vana ve ekleme malzemeleri ve doğal gaz tesisat malzemeleri üretimi yapan şirkette tüm üretim kalite kontrol, TSE ürün belgelendirme ve ISO 9001 çalışmalarını üç vardiyalı üretim sisteminde 3 farklı İlçe de bulunan entegre bir tesis (hurda ve ham pirinç hammadde girer paketlenmiş ürün çıkar) bu işleri yapan bölümün Genel Müdüre bağlı yöneticisi olarak çalıştım. Office  Profosyonel, Link (Personel ve stok kontrol üniteleri), internet, MRP, ERP, Paket bazı özel programlar. <p>Yönetici olarak şirket için çalışmak, Yönetim Bilimleri, Kalite, İş Güvenliği, Çevre Yönetimi, Teknik ve İnsan Kaynakları bilgi, deneyim,\\n</p><p>yetenek ve becerilerimi kullanmak.</p>,Sağlık ve gıda malzemeleri hariç otomobil retilmesi için gerekli her türlü işletme, güvenlik, kırtasiye malzemeleri alımı (kesici aletler, yedek parçalar, üretim tezgahları, giyim malzemleri vb...) ve toplam kalite yönetimi ile ilgili eğitimleri vermek. Office  Profosyonel, Link (Personel ve stok kontrol üniteleri), internet, MRP, ERP, Paket bazı özel programlar. <p>Yönetici olarak şirket için çalışmak, Yönetim Bilimleri, Kalite, İş Güvenliği, Çevre Yönetimi, Teknik ve İnsan Kaynakları bilgi, deneyim,\\n</p><p>yetenek ve becerilerimi kullanmak.</p>,Şahinlerin yeniden yapılandırılması, büyük işletmeler dalında kalite ödülüne hazırlamak, ıso 9001 belgesi almak, işletmeler bazında personel, kapasite ve maliyet planlaması yapmak. Office  Profosyonel, Link (Personel ve stok kontrol üniteleri), internet, MRP, ERP, Paket bazı özel programlar. <p>Yönetici olarak şirket için çalışmak, Yönetim Bilimleri, Kalite, İş Güvenliği, Çevre Yönetimi, Teknik ve İnsan Kaynakları bilgi, deneyim,\\n</p><p>yetenek ve becerilerimi kullanmak.</p>,Üretim sektörüne yönelik özel yazılımlar yapılan şirkette sistem analizi ve proje danışmanı olarak görev yapıyorum. Hazırlanacak yazılımın algoritmasını düzenliyor, yazılım ekibine veriyor ve sonuçları kontrol ediyor şeklinde özet bir iş tanımı verebilirim. Office  Profosyonel, Link (Personel ve stok kontrol üniteleri), internet, MRP, ERP, Paket bazı özel programlar. <p>Yönetici olarak şirket için çalışmak, Yönetim Bilimleri, Kalite, İş Güvenliği, Çevre Yönetimi, Teknik ve İnsan Kaynakları bilgi, deneyim,\\n</p><p>yetenek ve becerilerimi kullanmak.</p> ISO 9001:2000,ISO EN 16949,ISO TS 16949/2002,ISO 9001,ISO 9001,Apqp,FMEA,FORD Q1,Iso 14000,ISO 14001,ISO 14001,Iso 16949,Iso 9000,MSA,PPAP,QS 9000,Spc (İstatistiksel Süreç Kontrolü),Photoshop,Photoshop,SAP,Gerber,Kalıp,Lectra,Örme,Sentez XL,ASSYST,Denim,Dikim,Dokuma,Gıda Mevzuatı,GMP,Haccp,IBM AS 400,Iso 18001,İşçi Sağlığı ve İş Güvenliği,Performans Yönetimi,OHSAS 18001:1999,Ohsas Kalite Yönetim Sistemleri,OHSAS,OHSAS 18000,Ohsas 18001,OHSAS 18001 İşçi Sağlığı ve İş Güvenliği Standartı,İç Tetkik Eğitim Sertifikası,İç Denetçilik Sertifikası,HACCP13000,HSE kanunları,İPK (İst Pro.Kot) ,Nakit Akışı,MSA,Norm Kadro Analizi,SAP R/3 CO,SA 8000,TS 16949,5S,Bina Sıhhi Tesisatı,Borulama,Kaynak Bilgisi,Kalibrasyon,ISO/TS 16949,CNC,Havalandırma,Hidrolik,SSK ve İş Güvenliği Yasaları,Stok Analizleri,Stok Takibi,Toplam Kalite Yönetimi,Visio,Erp Lojistik,ÇED Raporu,GOST-R kalite sistemleri,Başdenetçi Sertifikası,BRC,CE markası,Yangın Projeleri,Yangın Algılama Ve Söndürme Sistemleri,Yalın Üretim Sistemleri,TPM ( Total Productive Maintenance),Talaşlı İmalat,REFA,MRP2 (İmalat Kaynak Planlaması),MSA,MRP,Mrp1 (Malzeme İhtiyaç Planlaması),Logo ERP,Maliyet Muhasebesi,MRP/ERP uygulamaları,Özlük işlemleri,Personel,Planlama ve bütçeleme tekniği,İstatistiksel Analiz,İş hukuku,İş ve Süreç Analizi,Kalite Yönetim Sistemleri,Link,Maliyet Analizleri,Bordrolama,Bütçe Planlama Ve Raporlama,Bütçeleme,Çok uluslu firma deneyimi,Denetim,ERP,Genel Muhasebe,Windows Xp,XENIX,HTML,PHP,6 Sigma,AS400,Denetleme'"
      ]
     },
     "execution_count": 9,
     "metadata": {},
     "output_type": "execute_result"
    }
   ],
   "source": [
    "example_person.resume_all"
   ]
  },
  {
   "cell_type": "markdown",
   "metadata": {
    "colab_type": "text",
    "id": "B7-9bEwHT3Xq"
   },
   "source": [
    "#### Some of the data has extracted from webpages and it still includes tags, etc. To get rid of HTML code I will use a simple function which is below"
   ]
  },
  {
   "cell_type": "code",
   "execution_count": 10,
   "metadata": {
    "colab": {},
    "colab_type": "code",
    "id": "5Z4-jEvjT3Xr"
   },
   "outputs": [],
   "source": [
    "def clean_some_char(sk):\n",
    "    try:\n",
    "        sk = sk.replace('İ','i')  # this letter comes from lowering the capital i of turkish : İ              \n",
    "    except:\n",
    "        pass\n",
    "    try:\n",
    "        sk = sk.replace('ı','i')                \n",
    "    except:\n",
    "        pass\n",
    "\n",
    "    try:\n",
    "        sk = sk.replace('ö','o')                \n",
    "    except:\n",
    "        pass\n",
    "\n",
    "    try:\n",
    "        sk = sk.replace('ü','u')\n",
    "    except:\n",
    "        pass\n",
    "\n",
    "    try:\n",
    "        sk = sk.replace('ş','s')\n",
    "    except:\n",
    "        pass\n",
    "\n",
    "    try:\n",
    "        sk = sk.replace('ç','c')\n",
    "    except:\n",
    "        pass\n",
    "    \n",
    "    try:\n",
    "        sk = sk.replace('ğ','g')\n",
    "    except:\n",
    "        pass\n",
    "    \n",
    "    try:\n",
    "        sk = sk.replace('\\t','')\n",
    "    except:\n",
    "        pass\n",
    "    \n",
    "    try:\n",
    "        sk = sk.replace('_','')\n",
    "    except:\n",
    "        pass\n",
    "    \n",
    "    return sk"
   ]
  },
  {
   "cell_type": "code",
   "execution_count": 11,
   "metadata": {
    "colab": {},
    "colab_type": "code",
    "id": "6VpgB89g0MNe"
   },
   "outputs": [],
   "source": [
    "# https://github.com/rasbt/python-machine-learning-book-2nd-edition/blob/master/code/ch08/ch08.ipynb \n",
    "\n",
    "def preprocessor(text): # I took this function from above and changed a bit \n",
    "    text = re.sub('<[^>]*>', '', text)\n",
    "    text = re.sub('[\\W]+', ' ', text.lower())\n",
    "    return text"
   ]
  },
  {
   "cell_type": "markdown",
   "metadata": {
    "colab_type": "text",
    "id": "nxrPiPNjT3X2"
   },
   "source": [
    "#### I will use preprocessor and clean_some_char functions to clear all puncts etc. and turn the resume_alls into one big text with just words and nothing non-alphanumeric"
   ]
  },
  {
   "cell_type": "markdown",
   "metadata": {
    "colab_type": "text",
    "id": "WLPbXjAmT3X8"
   },
   "source": [
    "#### Lets see how data will change after using our function on it "
   ]
  },
  {
   "cell_type": "code",
   "execution_count": 12,
   "metadata": {
    "colab": {},
    "colab_type": "code",
    "id": "_7ssKqdpT3YB"
   },
   "outputs": [],
   "source": [
    "#this cell takes some time\n",
    "for person in people:\n",
    "    people[person].resume_all = preprocessor(clean_some_char(people[person].resume_all))"
   ]
  },
  {
   "cell_type": "code",
   "execution_count": 13,
   "metadata": {},
   "outputs": [
    {
     "data": {
      "text/plain": [
       "'48 km 2x3 seritli karayolu yapimi toplam 2 x 10 080 m uzunlugunda 21 viyaduk toplam 1600 m uzunlugunda 2 cift tup tunel 9 adet kavsak 15 alt ve ust gecit yapim isinde kalite çevre ve is guvenligi şefi olarak gorev yaptim office profosyonel link personel ve stok kontrol uniteleri internet mrp erp paket bazi ozel programlar yonetici olarak sirket icin calismak yonetim bilimleri kalite is guvenligi çevre yonetimi teknik ve insan kaynaklari bilgi deneyim yetenek ve becerilerimi kullanmak turizm tekirdag da turizm sektoru icin hediye malzemeleri uretmekte olan isyerinde fabrika muduru olarak calistim benim uretim malzeme planlama insan kaynaklari kalite ve diger idari islemlerde yetki sahibyidim office profosyonel link personel ve stok kontrol uniteleri internet mrp erp paket bazi ozel programlar yonetici olarak sirket icin calismak yonetim bilimleri kalite is guvenligi çevre yonetimi teknik ve insan kaynaklari bilgi deneyim yetenek ve becerilerimi kullanmak 400 m3 saat kapasiteli 3 adet beton santarlinin tum uretim ve kalite kontrol faaliyetlerini yerine getirmek hakedeis ve proje teslimi icin gerekli kalite kontrol evraklarini hazirlamak turkmenistan standartlar enstitusu tarfindan onaylanmis beton santrali laboratuvarindaki deneyleri yaptirmak raporlari tds ve diger resmi kurumlara sunmak office profosyonel link personel ve stok kontrol uniteleri internet mrp erp paket bazi ozel programlar yonetici olarak sirket icin calismak yonetim bilimleri kalite is guvenligi çevre yonetimi teknik ve insan kaynaklari bilgi deneyim yetenek ve becerilerimi kullanmak a sinifi is guvenligi uzmani oarak gorev yapitm office profosyonel link personel ve stok kontrol uniteleri internet mrp erp paket bazi ozel programlar yonetici olarak sirket icin calismak yonetim bilimleri kalite is guvenligi çevre yonetimi teknik ve insan kaynaklari bilgi deneyim yetenek ve becerilerimi kullanmak denim kumastan pantalon ve gomlek uretimi yapan sirkette tum isletmeden sorumlu isletme muduru olarak gorev yaptim office profosyonel link personel ve stok kontrol uniteleri internet mrp erp paket bazi ozel programlar yonetici olarak sirket icin calismak yonetim bilimleri kalite is guvenligi çevre yonetimi teknik ve insan kaynaklari bilgi deneyim yetenek ve becerilerimi kullanmak dinateks levis wrangler lee abbate vb belli başli firmanin avrupuadaki en büyük gömlek diken taşeronudur sistemi belgelendirmek office profosyonel link personel ve stok kontrol uniteleri internet mrp erp paket bazi ozel programlar yonetici olarak sirket icin calismak yonetim bilimleri kalite is guvenligi çevre yonetimi teknik ve insan kaynaklari bilgi deneyim yetenek ve becerilerimi kullanmak dort adet toplamda bes adettir taskin onleme baraji ve su kanallarinin insaat asmasindaki kontrol islemlerinin yapilmasini ve raporlanmasini saglamak office profosyonel link personel ve stok kontrol uniteleri internet mrp erp paket bazi ozel programlar yonetici olarak sirket icin calismak yonetim bilimleri kalite is guvenligi çevre yonetimi teknik ve insan kaynaklari bilgi deneyim yetenek ve becerilerimi kullanmak enerji disi veri iletim kontrol ve kumanda kablo imalati yapan 2m kablo www 2mkab com kalite teknik ve ik muduruluklerini birlikte yuruttum office profosyonel link personel ve stok kontrol uniteleri internet mrp erp paket bazi ozel programlar yonetici olarak sirket icin calismak yonetim bilimleri kalite is guvenligi çevre yonetimi teknik ve insan kaynaklari bilgi deneyim yetenek ve becerilerimi kullanmak güriş libya projelerindeki tum kalite isg cevre ve dokumantasyon faaliyetlerini koordine etmek office profosyonel link personel ve stok kontrol uniteleri internet mrp erp paket bazi ozel programlar yonetici olarak sirket icin calismak yonetim bilimleri kalite is guvenligi çevre yonetimi teknik ve insan kaynaklari bilgi deneyim yetenek ve becerilerimi kullanmak insan kaynaklari ve idari isler yonetimi personel secme yerlestirme ssk ve diger yasal islemler ucretlendirme tahakkuk ve ayrica unute bazinda personel planlamasi bant vb office profosyonel link personel ve stok kontrol uniteleri internet mrp erp paket bazi ozel programlar yonetici olarak sirket icin calismak yonetim bilimleri kalite is guvenligi çevre yonetimi teknik ve insan kaynaklari bilgi deneyim yetenek ve becerilerimi kullanmak lüleburgaz ve kirlarelindeki iki fabrikayi iso 9002 ve sağlik bakanliğinin ürün ruhsatina gmp hazirlamak ve belgelemek office profosyonel link personel ve stok kontrol uniteleri internet mrp erp paket bazi ozel programlar yonetici olarak sirket icin calismak yonetim bilimleri kalite is guvenligi çevre yonetimi teknik ve insan kaynaklari bilgi deneyim yetenek ve becerilerimi kullanmak mutfak banyo tuvalet ve diger sihhi tesisat batarya ve ekleme malzemeleri lpg dedantor vana ve ekleme malzemeleri ve dogal gaz tesisat malzemeleri uretimi yapan sirkette tum uretim kalite kontrol tse urun belgelendirme ve iso 9001 calismalarini uc vardiyali uretim sisteminde 3 farkli ilce de bulunan entegre bir tesis hurda ve ham pirinc hammadde girer paketlenmis urun cikar bu isleri yapan bolumun genel mudure bagli yoneticisi olarak calistim office profosyonel link personel ve stok kontrol uniteleri internet mrp erp paket bazi ozel programlar yonetici olarak sirket icin calismak yonetim bilimleri kalite is guvenligi çevre yonetimi teknik ve insan kaynaklari bilgi deneyim yetenek ve becerilerimi kullanmak saglik ve gida malzemeleri haric otomobil retilmesi icin gerekli her turlu isletme guvenlik kirtasiye malzemeleri alimi kesici aletler yedek parcalar uretim tezgahlari giyim malzemleri vb ve toplam kalite yonetimi ile ilgili egitimleri vermek office profosyonel link personel ve stok kontrol uniteleri internet mrp erp paket bazi ozel programlar yonetici olarak sirket icin calismak yonetim bilimleri kalite is guvenligi çevre yonetimi teknik ve insan kaynaklari bilgi deneyim yetenek ve becerilerimi kullanmak şahinlerin yeniden yapilandirilmasi buyuk isletmeler dalinda kalite odulune hazirlamak iso 9001 belgesi almak isletmeler bazinda personel kapasite ve maliyet planlamasi yapmak office profosyonel link personel ve stok kontrol uniteleri internet mrp erp paket bazi ozel programlar yonetici olarak sirket icin calismak yonetim bilimleri kalite is guvenligi çevre yonetimi teknik ve insan kaynaklari bilgi deneyim yetenek ve becerilerimi kullanmak üretim sektorune yonelik ozel yazilimlar yapilan sirkette sistem analizi ve proje danismani olarak gorev yapiyorum hazirlanacak yazilimin algoritmasini duzenliyor yazilim ekibine veriyor ve sonuclari kontrol ediyor seklinde ozet bir is tanimi verebilirim office profosyonel link personel ve stok kontrol uniteleri internet mrp erp paket bazi ozel programlar yonetici olarak sirket icin calismak yonetim bilimleri kalite is guvenligi çevre yonetimi teknik ve insan kaynaklari bilgi deneyim yetenek ve becerilerimi kullanmak iso 9001 2000 iso en 16949 iso ts 16949 2002 iso 9001 iso 9001 apqp fmea ford q1 iso 14000 iso 14001 iso 14001 iso 16949 iso 9000 msa ppap qs 9000 spc istatistiksel surec kontrolu photoshop photoshop sap gerber kalip lectra örme sentez xl assyst denim dikim dokuma gida mevzuati gmp haccp ibm as 400 iso 18001 isci sagligi ve is guvenligi performans yonetimi ohsas 18001 1999 ohsas kalite yonetim sistemleri ohsas ohsas 18000 ohsas 18001 ohsas 18001 isci sagligi ve is guvenligi standarti ic tetkik egitim sertifikasi ic denetcilik sertifikasi haccp13000 hse kanunlari ipk ist pro kot nakit akisi msa norm kadro analizi sap r 3 co sa 8000 ts 16949 5s bina sihhi tesisati borulama kaynak bilgisi kalibrasyon iso ts 16949 cnc havalandirma hidrolik ssk ve is guvenligi yasalari stok analizleri stok takibi toplam kalite yonetimi visio erp lojistik çed raporu gost r kalite sistemleri basdenetci sertifikasi brc ce markasi yangin projeleri yangin algilama ve sondurme sistemleri yalin üretim sistemleri tpm total productive maintenance talasli imalat refa mrp2 imalat kaynak planlamasi msa mrp mrp1 malzeme ihtiyac planlamasi logo erp maliyet muhasebesi mrp erp uygulamalari özluk islemleri personel planlama ve butceleme teknigi istatistiksel analiz is hukuku is ve surec analizi kalite yonetim sistemleri link maliyet analizleri bordrolama butce planlama ve raporlama butceleme çok uluslu firma deneyimi denetim erp genel muhasebe windows xp xenix html php 6 sigma as400 denetleme'"
      ]
     },
     "execution_count": 13,
     "metadata": {},
     "output_type": "execute_result"
    }
   ],
   "source": [
    "example_person.resume_all"
   ]
  },
  {
   "cell_type": "markdown",
   "metadata": {
    "colab_type": "text",
    "id": "eqypXRs1T3Y4"
   },
   "source": [
    "## Finally let's check if we have any non-alphanumeric value on our resumes and skills"
   ]
  },
  {
   "cell_type": "code",
   "execution_count": 14,
   "metadata": {
    "colab": {
     "base_uri": "https://localhost:8080/",
     "height": 34
    },
    "colab_type": "code",
    "id": "ZvWRHNs4T3Y5",
    "outputId": "d28e3ed3-ecd7-4019-e2e3-b24659ff1d1d"
   },
   "outputs": [
    {
     "data": {
      "text/plain": [
       "[]"
      ]
     },
     "execution_count": 14,
     "metadata": {},
     "output_type": "execute_result"
    }
   ],
   "source": [
    "non_alpha_resume_all = []\n",
    "\n",
    "\n",
    "for ref in people:\n",
    "    person = people[ref]\n",
    "    \n",
    "    person.resume_all = person.resume_all.replace(' ','B') # trying to cancel the spaces. spaces are non-alphanum values.\n",
    "    \n",
    "    \n",
    "    if len(person.resume_all) != 0:\n",
    "        if person.resume_all.isalnum() != True:\n",
    "            non_alpha_resume_all.append(ref)\n",
    "    \n",
    "   \n",
    "    person.resume_all = person.resume_all.replace('B',' ')\n",
    "    \n",
    "    \n",
    "non_alpha_resume_all"
   ]
  },
  {
   "cell_type": "code",
   "execution_count": 15,
   "metadata": {},
   "outputs": [],
   "source": [
    "for person in people:\n",
    "    wp = []\n",
    "    words = people[person].resume_all.split()\n",
    "    for word in words:\n",
    "        if stemmer.stem(word) not in sw:\n",
    "            wp.append(stemmer.stem(word))\n",
    "    people[person].resume_all =' '.join(wp)"
   ]
  },
  {
   "cell_type": "code",
   "execution_count": 16,
   "metadata": {},
   "outputs": [
    {
     "data": {
      "text/plain": [
       "'48 km 2x3 serit karayo yapim topla 2 x 10 080 m uzunlug 21 viyaduk topla 1600 m uzunlug 2 cift tup tunel 9 adet kav 15 alt ust gecit yapim isin kali çevr is guvenlig şef olarak gorev yaptim offi profosyonel link personel stok kontrol unite internet mrp erp paket bazi ozel progra yonetiç olarak sirket iç calismak yone bilim kali is guvenlig çevr yonet teknik insan kaynaklari bilgi dene yetenek beceri kullanmak turizm tekirdag turizm sektor iç hedi malzeme uretmek olan isyer fabrika mudur olarak calis ben uret malzeme planla insan kaynaklari kali diger idari islem yetk sahiby offi profosyonel link personel stok kontrol unite internet mrp erp paket bazi ozel progra yonetiç olarak sirket iç calismak yone bilim kali is guvenlig çevr yonet teknik insan kaynaklari bilgi dene yetenek beceri kullanmak 400 m3 saat kapasite 3 adet beton santarli tum uret kali kontrol faaliyet yer getirmek hakedeis proje tesl iç gerek kali kontrol evraklarin hazirlamak turkmenistan standart enstitu tarfindan onaylanmis beton santrali laboratuvarindaki deney yaptirmak raporlari tds diger resm kurum sunmak offi profosyonel link personel stok kontrol unite internet mrp erp paket bazi ozel progra yonetiç olarak sirket iç calismak yone bilim kali is guvenlig çevr yonet teknik insan kaynaklari bilgi dene yetenek beceri kullanmak a sinif is guvenlig uzmani oarak gorev yapitm offi profosyonel link personel stok kontrol unite internet mrp erp paket bazi ozel progra yonetiç olarak sirket iç calismak yone bilim kali is guvenlig çevr yonet teknik insan kaynaklari bilgi dene yetenek beceri kullanmak den kumas pantalon gomlek uret yapan sirket tum isletme sorum islet mudur olarak gorev yaptim offi profosyonel link personel stok kontrol unite internet mrp erp paket bazi ozel progra yonetiç olarak sirket iç calismak yone bilim kali is guvenlig çevr yonet teknik insan kaynaklari bilgi dene yetenek beceri kullanmak dinateks levis wrangler le abbate vb bell başli firmani avrupua büyük gömlek di taşeron siste belgelendirmek offi profosyonel link personel stok kontrol unite internet mrp erp paket bazi ozel progra yonetiç olarak sirket iç calismak yone bilim kali is guvenlig çevr yonet teknik insan kaynaklari bilgi dene yetenek beceri kullanmak dort adet topla bes adet taski onlem baraji su kanallari insaat asmasindaki kontrol islem yapilmasin raporlanmasin saglamak offi profosyonel link personel stok kontrol unite internet mrp erp paket bazi ozel progra yonetiç olarak sirket iç calismak yone bilim kali is guvenlig çevr yonet teknik insan kaynaklari bilgi dene yetenek beceri kullanmak enerj dis ver ilet kontrol kumanda kablo imalati yapan 2m kablo www 2mkab com kali teknik ik muduruluk birlik yurut offi profosyonel link personel stok kontrol unite internet mrp erp paket bazi ozel progra yonetiç olarak sirket iç calismak yone bilim kali is guvenlig çevr yonet teknik insan kaynaklari bilgi dene yetenek beceri kullanmak güriş libya proje tum kali isg cevr dokumantasyon faaliyet koordin etmek offi profosyonel link personel stok kontrol unite internet mrp erp paket bazi ozel progra yonetiç olarak sirket iç calismak yone bilim kali is guvenlig çevr yonet teknik insan kaynaklari bilgi dene yetenek beceri kullanmak insan kaynaklari idari is yonet personel secm yerlestir ssk diger yasal isle ucretlendir tahakkuk ayrica unute bazinda personel planlamasi bant vb offi profosyonel link personel stok kontrol unite internet mrp erp paket bazi ozel progra yonetiç olarak sirket iç calismak yone bilim kali is guvenlig çevr yonet teknik insan kaynaklari bilgi dene yetenek beceri kullanmak lüleburgaz kirlarel ik fabrikayi iso 9002 sağlik bakanlik ürün ruhsatina gmp hazirlamak belgelemek offi profosyonel link personel stok kontrol unite internet mrp erp paket bazi ozel progra yonetiç olarak sirket iç calismak yone bilim kali is guvenlig çevr yonet teknik insan kaynaklari bilgi dene yetenek beceri kullanmak mutfak banyo tuvalet diger sihh tesisat batarya ekle malzeme lpg dedantor vana ekle malzeme dogal gaz tesisat malzeme uret yapan sirket tum uret kali kontrol tse ur belgelendir iso 9001 calismalarin uc vardiyali uret sistem 3 farkli ilç bulunan entegr bir tesis hur ham pirinc hammadde girer paketlenmis ur cikar isler yapan bol genel mudure bagli yonetici olarak calis offi profosyonel link personel stok kontrol unite internet mrp erp paket bazi ozel progra yonetiç olarak sirket iç calismak yone bilim kali is guvenlig çevr yonet teknik insan kaynaklari bilgi dene yetenek beceri kullanmak saglik gida malzeme haric otomobil retilme iç gerek turl islet guvenlik kirtasi malzeme alim kesiç alet yedek parç uret tezgahlari giy malzem vb topla kali yonet il ilgi egitim vermek offi profosyonel link personel stok kontrol unite internet mrp erp paket bazi ozel progra yonetiç olarak sirket iç calismak yone bilim kali is guvenlig çevr yonet teknik insan kaynaklari bilgi dene yetenek beceri kullanmak şahin yeni yapilandirilmasi buyuk islet dalinda kali odulune hazirlamak iso 9001 belge almak islet bazinda personel kapasi maliyet planlamasi yapmak offi profosyonel link personel stok kontrol unite internet mrp erp paket bazi ozel progra yonetiç olarak sirket iç calismak yone bilim kali is guvenlig çevr yonet teknik insan kaynaklari bilgi dene yetenek beceri kullanmak üret sektorune yonelik ozel yazilimlar yapilan sirket siste analiz proje danismani olarak gorev yapiyor hazirlanacak yazil algoritmasin duzenliyor yazil ekip veriyor sonuclari kontrol ediyor sekl ozet bir is tanim verebilir offi profosyonel link personel stok kontrol unite internet mrp erp paket bazi ozel progra yonetiç olarak sirket iç calismak yone bilim kali is guvenlig çevr yonet teknik insan kaynaklari bilgi dene yetenek beceri kullanmak iso 9001 2000 iso 16949 iso ts 16949 2002 iso 9001 iso 9001 apqp fmea ford q1 iso 14000 iso 14001 iso 14001 iso 16949 iso 9000 msa ppap qs 9000 spc istatistiksel surec kontro photoshop photoshop sap gerber kalip lectra örm sentez xl assyst den dik dok gida mevzuati gmp haccp ibm as 400 iso 18001 isç saglig is guvenlig performans yonet ohsas 18001 1999 ohsas kali yone sistem ohsas ohsas 18000 ohsas 18001 ohsas 18001 isç saglig is guvenlig standarti ic tetkik egit sertifikasi ic denetcilik sertifikasi haccp13000 hse kanunlari ipk ist pro kot nakit akis msa norm kadro analiz sap r 3 co sa 8000 ts 16949 5s bina sihh tesisati borula kaynak bilgi kalibrasyon iso ts 16949 cnc havalandirma hidrolik ssk is guvenlig yasalari stok analiz stok takip topla kali yonet visio erp lojis çed rapor gost r kali sistem basdenetç sertifikasi brc ce markasi yangi proje yangi algilam sondurme sistem yali üret sistem tpm total productiv maintenance talasli imalat refa mrp2 imalat kaynak planlamasi msa mrp mrp1 malzeme ihtiyac planlamasi logo erp maliyet muhasebe mrp erp uygulamalari özluk islem personel planla butcele teknig istatistiksel analiz is hukuk is surec analiz kali yone sistem link maliyet analiz bordrola butce planla raporla butcele ulus firma deney dene erp genel muhasep windows xp xenix html php 6 sigma as400 denetle'"
      ]
     },
     "execution_count": 16,
     "metadata": {},
     "output_type": "execute_result"
    }
   ],
   "source": [
    "example_person.resume_all"
   ]
  },
  {
   "cell_type": "code",
   "execution_count": 17,
   "metadata": {
    "colab": {},
    "colab_type": "code",
    "id": "_GsjQ8XbM4gY"
   },
   "outputs": [],
   "source": [
    "# DATAFRAME CELL\n",
    "refs = [ref for ref in people]\n",
    "resume_alls= [people[ref].resume_all for ref in people]\n",
    "df= pd.DataFrame()\n",
    "df['Ref'] =refs\n",
    "df['AllResume'] =resume_alls\n",
    "df = df[df.AllResume != 'nan']"
   ]
  },
  {
   "cell_type": "code",
   "execution_count": 18,
   "metadata": {},
   "outputs": [],
   "source": [
    "del people"
   ]
  },
  {
   "cell_type": "markdown",
   "metadata": {
    "colab_type": "text",
    "id": "8QaqJzdkT3ae"
   },
   "source": [
    "# CountVec and Tfidf on Resumes"
   ]
  },
  {
   "cell_type": "code",
   "execution_count": 19,
   "metadata": {
    "colab": {},
    "colab_type": "code",
    "id": "yfX1LLLfT3af"
   },
   "outputs": [],
   "source": [
    "cvR = CountVectorizer(ngram_range=(1,2),dtype='int16') # to not lose the meanings I will use 1-2 n-grams. I wanted to use 3 as well but\n",
    "                                                      # i am having MemmoryError"
   ]
  },
  {
   "cell_type": "code",
   "execution_count": 20,
   "metadata": {
    "colab": {},
    "colab_type": "code",
    "id": "23VuimPtT3aj"
   },
   "outputs": [],
   "source": [
    "cv_allresume= cvR.fit_transform(list(df.AllResume))"
   ]
  },
  {
   "cell_type": "code",
   "execution_count": 21,
   "metadata": {
    "colab": {},
    "colab_type": "code",
    "id": "vBWw3iCGT3ap"
   },
   "outputs": [
    {
     "data": {
      "text/plain": [
       "(7767, 782900)"
      ]
     },
     "execution_count": 21,
     "metadata": {},
     "output_type": "execute_result"
    }
   ],
   "source": [
    "cv_allresume.shape"
   ]
  },
  {
   "cell_type": "code",
   "execution_count": 22,
   "metadata": {},
   "outputs": [],
   "source": [
    "tfR = TfidfVectorizer(ngram_range=(1,2)) # to not lose the meanings I will use 1-2 n-grams. I wanted to use 3 as well but\n",
    "                                        # i am having MemmoryError "
   ]
  },
  {
   "cell_type": "code",
   "execution_count": 23,
   "metadata": {},
   "outputs": [],
   "source": [
    "tf_allresume = tfR.fit_transform(list(df.AllResume))"
   ]
  },
  {
   "cell_type": "code",
   "execution_count": 24,
   "metadata": {},
   "outputs": [
    {
     "data": {
      "text/plain": [
       "(7767, 782900)"
      ]
     },
     "execution_count": 24,
     "metadata": {},
     "output_type": "execute_result"
    }
   ],
   "source": [
    "tf_allresume.shape"
   ]
  },
  {
   "cell_type": "markdown",
   "metadata": {},
   "source": [
    "# Same procedure for Jobs Data"
   ]
  },
  {
   "cell_type": "code",
   "execution_count": 25,
   "metadata": {},
   "outputs": [],
   "source": [
    "JOBS = pd.read_excel('data/job_ad_contents.xlsx')"
   ]
  },
  {
   "cell_type": "code",
   "execution_count": 26,
   "metadata": {},
   "outputs": [],
   "source": [
    "class Job:\n",
    "    def __init__(self,jobID,description):\n",
    "        self.jobID = jobID\n",
    "        self.description = description "
   ]
  },
  {
   "cell_type": "code",
   "execution_count": 27,
   "metadata": {},
   "outputs": [],
   "source": [
    "jobs={}"
   ]
  },
  {
   "cell_type": "code",
   "execution_count": 28,
   "metadata": {},
   "outputs": [],
   "source": [
    "for index in range(len(JOBS)):\n",
    "    job = JOBS.iloc[index:index+1,:]\n",
    "    \n",
    "    JobID = job.JobId[index]\n",
    "    Description = job.Ilan[index]\n",
    "    \n",
    "    job_object = Job(JobID,Description)\n",
    "    jobs[JobID] = job_object\n",
    "del JOBS "
   ]
  },
  {
   "cell_type": "code",
   "execution_count": 29,
   "metadata": {},
   "outputs": [
    {
     "data": {
      "text/plain": [
       "2187737"
      ]
     },
     "execution_count": 29,
     "metadata": {},
     "output_type": "execute_result"
    }
   ],
   "source": [
    "list(jobs.keys())[563]"
   ]
  },
  {
   "cell_type": "code",
   "execution_count": 30,
   "metadata": {},
   "outputs": [],
   "source": [
    "example_job = jobs[2187737]"
   ]
  },
  {
   "cell_type": "code",
   "execution_count": 31,
   "metadata": {},
   "outputs": [
    {
     "data": {
      "text/plain": [
       "'Satış Danışmanı <strong>Satış Danışmanı - Ankara</strong><br><br>Mağazacılık Perakende satış, ev ve bahçe mobilyaları, ev tekstili ve dekorasyonu,\\xa0ithalat, İhracat ve\\xa0üretim\\xa0konularında faaliyet gösteren firmamızın,\\xa0<strong>Kervan</strong>\\xa0ve\\xa0<strong>Home Sweet Home</strong>\\xa0 Ankara Mağazaları için\\xa0<strong>\"Satış Danışmanları\"</strong>\\xa0aranmaktadır.<br>\\xa0<ul><li>Tercihen ev tekstili, mobilya, bahçe mobilyaları, aydınlatma veya dekorasyon ürünlerinin satışında tecrübesi olan,</li><li>Mağazacılık sektöründe satış veya kasa konularında en az\\xa02 yıl deneyimli, </li><li>En az lise mezunu, tercihen yüksek okul veya üniversite mezunu, </li><li>Mağazacılığı meslek olarak benimsemiş kariyer yapmak isteyen, </li><li>Düzgün diksiyona sahip, güler yüzlü, aktif değişime ve gelişime açık olan, </li><li>İkna kabiliyeti yüksek iletişim becerileri güçlü, giyimine ve dış görünüşüne özen gösteren,</li><li>Ekip çalışmasına yatkın, İşinde fark yaratabilecek yetkinliklere sahip, </li><li>Yoğun iş temposunda müşteri odaklı çalışabilecek, </li><li>Tercihen\\xa0<strong>Nebim</strong>\\xa0V3 programı kullanabilen, </li></ul><br/><br/><h3>İŞ TANIMI</h3><ul><li>Mağazaya gelen müşterileri karşılamak, </li><li>Müşteri ihtiyacını anlayıp, ilave alternatif ürünler sunarak satış yapmak, </li><li>Mağazanın satış hedeflerine gerekli katkıyı sağlamak, </li><li>Eksik ürünlerin tespitini yapıp mağaza yöneticisine bildirmek,\\xa0 </li><li>Ürünlerin reyon düzeni ve temizliğinden\\xa0sorumlu olmak, </li><li>Etiket kontrolü yapmak, eksik etiketleri tamamlamak ve hatalı etiketleri tespit ederek düzeltmek.\\xa0Mağaza içi sayımlara katılmak,</li><li>Ürün kabule gelen ürünleri mağazaya taşımak sayımlarını yapmak ve reyona yerleştirmek,\\xa0</li><li>Mağazacılığın\\xa0gerekliliği olan her işte aktif rol almak, </li></ul><p><br><strong>Pozisyonun Amacı;</strong>\\xa0Şirketin mevcut ve potansiyel müşterileri doğrultusunda satış hacminin artırılması, Şirket stratejilerine uygun olarak satış ve karlılık hedeflerine ulaşmak, müşteri\\xa0 memnuniyetini artırmak.</p>'"
      ]
     },
     "execution_count": 31,
     "metadata": {},
     "output_type": "execute_result"
    }
   ],
   "source": [
    "example_job.description"
   ]
  },
  {
   "cell_type": "code",
   "execution_count": 32,
   "metadata": {},
   "outputs": [],
   "source": [
    "for job in jobs:\n",
    "    jobs[job].description = preprocessor(clean_some_char(jobs[job].description)) "
   ]
  },
  {
   "cell_type": "code",
   "execution_count": 33,
   "metadata": {},
   "outputs": [
    {
     "data": {
      "text/plain": [
       "'satis danismani satis danismani ankaramagazacilik perakende satis ev ve bahce mobilyalari ev tekstili ve dekorasyonu ithalat ihracat ve uretim konularinda faaliyet gosteren firmamizin kervan ve home sweet home ankara magazalari icin satis danismanlari aranmaktadir tercihen ev tekstili mobilya bahce mobilyalari aydinlatma veya dekorasyon urunlerinin satisinda tecrubesi olan magazacilik sektorunde satis veya kasa konularinda en az 2 yil deneyimli en az lise mezunu tercihen yuksek okul veya universite mezunu magazaciligi meslek olarak benimsemis kariyer yapmak isteyen duzgun diksiyona sahip guler yuzlu aktif degisime ve gelisime acik olan ikna kabiliyeti yuksek iletisim becerileri guclu giyimine ve dis gorunusune ozen gosteren ekip calismasina yatkin isinde fark yaratabilecek yetkinliklere sahip yogun is temposunda musteri odakli calisabilecek tercihen nebim v3 programi kullanabilen iş tanimimagazaya gelen musterileri karsilamak musteri ihtiyacini anlayip ilave alternatif urunler sunarak satis yapmak magazanin satis hedeflerine gerekli katkiyi saglamak eksik urunlerin tespitini yapip magaza yoneticisine bildirmek ürunlerin reyon duzeni ve temizliginden sorumlu olmak etiket kontrolu yapmak eksik etiketleri tamamlamak ve hatali etiketleri tespit ederek duzeltmek magaza ici sayimlara katilmak ürun kabule gelen urunleri magazaya tasimak sayimlarini yapmak ve reyona yerlestirmek magazaciligin gerekliligi olan her iste aktif rol almak pozisyonun amaci şirketin mevcut ve potansiyel musterileri dogrultusunda satis hacminin artirilmasi şirket stratejilerine uygun olarak satis ve karlilik hedeflerine ulasmak musteri memnuniyetini artirmak '"
      ]
     },
     "execution_count": 33,
     "metadata": {},
     "output_type": "execute_result"
    }
   ],
   "source": [
    "example_job.description"
   ]
  },
  {
   "cell_type": "code",
   "execution_count": 34,
   "metadata": {},
   "outputs": [],
   "source": [
    "for job in jobs:\n",
    "    wp = []\n",
    "    words = jobs[job].description.split()\n",
    "    for word in words:\n",
    "        if stemmer.stem(word) not in sw:\n",
    "            wp.append(stemmer.stem(word))\n",
    "    jobs[job].description =' '.join(wp)     \n",
    "    "
   ]
  },
  {
   "cell_type": "code",
   "execution_count": 35,
   "metadata": {},
   "outputs": [
    {
     "data": {
      "text/plain": [
       "'satis danismani satis danismani ankaramagazacilik peraken satis ev bahce mobilyalari ev teksti dekorasyon ithalat ihracat uret konularinda faaliyet gosteren firmamiz kervan home sweet home ankar magazalari iç satis danismanlari aranmaktadir tercihen ev teksti mobilya bahce mobilyalari aydinlatm dekorasyon urun satisinda tecrube olan magazacilik sektorunde satis kas konularinda 2 yil deneyim lis mezun tercihen yuksek okul universi mezun magazacilig meslek olarak benimsemis kariyer yapmak isteyen duzg diksiyon sahip guler yuzl aktif degis gelis acik olan ikna kabi yuksek iletis beceri gucl giyim dis gorunusune ozen gosteren ekip calismasina yatki isin fark yaratabilecek yetkinlik sahip yog is tempo muster odakli calisabilecek tercihen nep v3 programi kullanabilen iş tanimimagaza gelen musteri karsilamak muster ihtiyacin anlayip ilave alternatif urunler sunarak satis yapmak magazani satis hedef gerek katki saglamak eksik urunler tespit yapip magaza yonetici bildirmek ürunler reyon duzen temizlig sorum olmak etiket kontro yapmak eksik etiket tamamlamak hatali etiket tespit ederek duzeltmek magaza iç sayimlar katilmak üru kabule gelen urun magaza tasimak sayimlarin yapmak reyon yerlestirmek magazacilig gereklilig olan is aktif rol almak pozisyo amaci şirk mevcut potansiyel musteri dogrultu satis hacmi artirilmasi şirket strateji uygun olarak satis karlilik hedef ulasmak muster memnuniyet artirmak'"
      ]
     },
     "execution_count": 35,
     "metadata": {},
     "output_type": "execute_result"
    }
   ],
   "source": [
    "example_job.description"
   ]
  },
  {
   "cell_type": "code",
   "execution_count": 36,
   "metadata": {},
   "outputs": [],
   "source": [
    "dff = pd.DataFrame()\n",
    "dff[\"JobId\"] = [jobs[job].jobID for job in jobs]\n",
    "dff[\"Description\"] = [jobs[job].description for job in jobs]\n",
    "del jobs"
   ]
  },
  {
   "cell_type": "code",
   "execution_count": 37,
   "metadata": {},
   "outputs": [],
   "source": [
    "cvJ = CountVectorizer(ngram_range= (1,2))"
   ]
  },
  {
   "cell_type": "code",
   "execution_count": 38,
   "metadata": {},
   "outputs": [],
   "source": [
    "cv_jobs = cvJ.fit_transform(list(dff.Description))"
   ]
  },
  {
   "cell_type": "code",
   "execution_count": 39,
   "metadata": {},
   "outputs": [
    {
     "data": {
      "text/plain": [
       "(1000, 84673)"
      ]
     },
     "execution_count": 39,
     "metadata": {},
     "output_type": "execute_result"
    }
   ],
   "source": [
    "cv_jobs.shape"
   ]
  },
  {
   "cell_type": "code",
   "execution_count": 40,
   "metadata": {},
   "outputs": [],
   "source": [
    "tfJ = TfidfVectorizer(ngram_range=(1,2))"
   ]
  },
  {
   "cell_type": "code",
   "execution_count": 41,
   "metadata": {},
   "outputs": [],
   "source": [
    "tf_jobs = tfJ.fit_transform(list(dff.Description))"
   ]
  },
  {
   "cell_type": "code",
   "execution_count": 42,
   "metadata": {},
   "outputs": [
    {
     "data": {
      "text/plain": [
       "(1000, 84673)"
      ]
     },
     "execution_count": 42,
     "metadata": {},
     "output_type": "execute_result"
    }
   ],
   "source": [
    "tf_jobs.shape"
   ]
  },
  {
   "cell_type": "code",
   "execution_count": 43,
   "metadata": {},
   "outputs": [],
   "source": [
    "df = df.reset_index().drop('index',axis=1)"
   ]
  },
  {
   "cell_type": "code",
   "execution_count": 44,
   "metadata": {},
   "outputs": [
    {
     "data": {
      "text/html": [
       "<div>\n",
       "<style scoped>\n",
       "    .dataframe tbody tr th:only-of-type {\n",
       "        vertical-align: middle;\n",
       "    }\n",
       "\n",
       "    .dataframe tbody tr th {\n",
       "        vertical-align: top;\n",
       "    }\n",
       "\n",
       "    .dataframe thead th {\n",
       "        text-align: right;\n",
       "    }\n",
       "</style>\n",
       "<table border=\"1\" class=\"dataframe\">\n",
       "  <thead>\n",
       "    <tr style=\"text-align: right;\">\n",
       "      <th></th>\n",
       "      <th>Ref</th>\n",
       "      <th>AllResume</th>\n",
       "    </tr>\n",
       "  </thead>\n",
       "  <tbody>\n",
       "    <tr>\n",
       "      <td>0</td>\n",
       "      <td>473</td>\n",
       "      <td>mapco turkcellgroup bunye sirket ms backoffi s...</td>\n",
       "    </tr>\n",
       "    <tr>\n",
       "      <td>1</td>\n",
       "      <td>900</td>\n",
       "      <td>ail sirket insaat sektorunde pazarla satis des...</td>\n",
       "    </tr>\n",
       "    <tr>\n",
       "      <td>2</td>\n",
       "      <td>1323</td>\n",
       "      <td>bilgi isle yonetici nbsp mo tekstil roteks tek...</td>\n",
       "    </tr>\n",
       "    <tr>\n",
       "      <td>3</td>\n",
       "      <td>3748</td>\n",
       "      <td>setting up departments in the production facil...</td>\n",
       "    </tr>\n",
       "    <tr>\n",
       "      <td>4</td>\n",
       "      <td>6363</td>\n",
       "      <td>ic sati al faaliyet sorum sati al mudur olarak...</td>\n",
       "    </tr>\n",
       "    <tr>\n",
       "      <td>...</td>\n",
       "      <td>...</td>\n",
       "      <td>...</td>\n",
       "    </tr>\n",
       "    <tr>\n",
       "      <td>7762</td>\n",
       "      <td>122121260</td>\n",
       "      <td>idari is faaliyet servis temizlik guvenlik ara...</td>\n",
       "    </tr>\n",
       "    <tr>\n",
       "      <td>7763</td>\n",
       "      <td>122124775</td>\n",
       "      <td>microsoft offi word excel powerpoint</td>\n",
       "    </tr>\n",
       "    <tr>\n",
       "      <td>7764</td>\n",
       "      <td>122133442</td>\n",
       "      <td>elektrik tesisati elektronik devr dizayni elek...</td>\n",
       "    </tr>\n",
       "    <tr>\n",
       "      <td>7765</td>\n",
       "      <td>122141830</td>\n",
       "      <td>word paint excel microsoft offi araba parç mon...</td>\n",
       "    </tr>\n",
       "    <tr>\n",
       "      <td>7766</td>\n",
       "      <td>122203636</td>\n",
       "      <td>created the website for the use of a project i...</td>\n",
       "    </tr>\n",
       "  </tbody>\n",
       "</table>\n",
       "<p>7767 rows × 2 columns</p>\n",
       "</div>"
      ],
      "text/plain": [
       "            Ref                                          AllResume\n",
       "0           473  mapco turkcellgroup bunye sirket ms backoffi s...\n",
       "1           900  ail sirket insaat sektorunde pazarla satis des...\n",
       "2          1323  bilgi isle yonetici nbsp mo tekstil roteks tek...\n",
       "3          3748  setting up departments in the production facil...\n",
       "4          6363  ic sati al faaliyet sorum sati al mudur olarak...\n",
       "...         ...                                                ...\n",
       "7762  122121260  idari is faaliyet servis temizlik guvenlik ara...\n",
       "7763  122124775               microsoft offi word excel powerpoint\n",
       "7764  122133442  elektrik tesisati elektronik devr dizayni elek...\n",
       "7765  122141830  word paint excel microsoft offi araba parç mon...\n",
       "7766  122203636  created the website for the use of a project i...\n",
       "\n",
       "[7767 rows x 2 columns]"
      ]
     },
     "execution_count": 44,
     "metadata": {},
     "output_type": "execute_result"
    }
   ],
   "source": [
    "df"
   ]
  },
  {
   "cell_type": "code",
   "execution_count": 45,
   "metadata": {},
   "outputs": [],
   "source": [
    "dff = dff.reset_index().drop('index',axis=1)"
   ]
  },
  {
   "cell_type": "code",
   "execution_count": 46,
   "metadata": {},
   "outputs": [
    {
     "data": {
      "text/html": [
       "<div>\n",
       "<style scoped>\n",
       "    .dataframe tbody tr th:only-of-type {\n",
       "        vertical-align: middle;\n",
       "    }\n",
       "\n",
       "    .dataframe tbody tr th {\n",
       "        vertical-align: top;\n",
       "    }\n",
       "\n",
       "    .dataframe thead th {\n",
       "        text-align: right;\n",
       "    }\n",
       "</style>\n",
       "<table border=\"1\" class=\"dataframe\">\n",
       "  <thead>\n",
       "    <tr style=\"text-align: right;\">\n",
       "      <th></th>\n",
       "      <th>JobId</th>\n",
       "      <th>Description</th>\n",
       "    </tr>\n",
       "  </thead>\n",
       "  <tbody>\n",
       "    <tr>\n",
       "      <td>0</td>\n",
       "      <td>1870838</td>\n",
       "      <td>maka şofor 5 yil maka soforlug tecrube sahip d...</td>\n",
       "    </tr>\n",
       "    <tr>\n",
       "      <td>1</td>\n",
       "      <td>1676048</td>\n",
       "      <td>şofor suruç avrup bolge mudurlug bagli sube de...</td>\n",
       "    </tr>\n",
       "    <tr>\n",
       "      <td>2</td>\n",
       "      <td>2141993</td>\n",
       "      <td>şofor suruç sitil çizg şirket grup bunye cento...</td>\n",
       "    </tr>\n",
       "    <tr>\n",
       "      <td>3</td>\n",
       "      <td>2175311</td>\n",
       "      <td>şofor suruç alfred concierg hizmet turki ilk r...</td>\n",
       "    </tr>\n",
       "    <tr>\n",
       "      <td>4</td>\n",
       "      <td>2193892</td>\n",
       "      <td>şofor suruç yog is tempo esnek calisma saat uy...</td>\n",
       "    </tr>\n",
       "    <tr>\n",
       "      <td>...</td>\n",
       "      <td>...</td>\n",
       "      <td>...</td>\n",
       "    </tr>\n",
       "    <tr>\n",
       "      <td>995</td>\n",
       "      <td>2158805</td>\n",
       "      <td>operasyonel mukemmellik uzmani üniversite nbsp...</td>\n",
       "    </tr>\n",
       "    <tr>\n",
       "      <td>996</td>\n",
       "      <td>2041878</td>\n",
       "      <td>test ölcum muhendi 4 yillik makine muhendislig...</td>\n",
       "    </tr>\n",
       "    <tr>\n",
       "      <td>997</td>\n",
       "      <td>2195798</td>\n",
       "      <td>muster siparis tedarik uzman yardimci dunyani ...</td>\n",
       "    </tr>\n",
       "    <tr>\n",
       "      <td>998</td>\n",
       "      <td>2190412</td>\n",
       "      <td>android gelistiriç preferred qualifications nb...</td>\n",
       "    </tr>\n",
       "    <tr>\n",
       "      <td>999</td>\n",
       "      <td>2159159</td>\n",
       "      <td>yurtiç satis uzmani ürettig kimyasal urunler d...</td>\n",
       "    </tr>\n",
       "  </tbody>\n",
       "</table>\n",
       "<p>1000 rows × 2 columns</p>\n",
       "</div>"
      ],
      "text/plain": [
       "       JobId                                        Description\n",
       "0    1870838  maka şofor 5 yil maka soforlug tecrube sahip d...\n",
       "1    1676048  şofor suruç avrup bolge mudurlug bagli sube de...\n",
       "2    2141993  şofor suruç sitil çizg şirket grup bunye cento...\n",
       "3    2175311  şofor suruç alfred concierg hizmet turki ilk r...\n",
       "4    2193892  şofor suruç yog is tempo esnek calisma saat uy...\n",
       "..       ...                                                ...\n",
       "995  2158805  operasyonel mukemmellik uzmani üniversite nbsp...\n",
       "996  2041878  test ölcum muhendi 4 yillik makine muhendislig...\n",
       "997  2195798  muster siparis tedarik uzman yardimci dunyani ...\n",
       "998  2190412  android gelistiriç preferred qualifications nb...\n",
       "999  2159159  yurtiç satis uzmani ürettig kimyasal urunler d...\n",
       "\n",
       "[1000 rows x 2 columns]"
      ]
     },
     "execution_count": 46,
     "metadata": {},
     "output_type": "execute_result"
    }
   ],
   "source": [
    "dff"
   ]
  },
  {
   "cell_type": "code",
   "execution_count": 47,
   "metadata": {},
   "outputs": [],
   "source": [
    "dfff = pd.read_excel('data\\job_ad_cv_evaluation_results_simplified.xlsx').drop('Unnamed: 0',axis=1)"
   ]
  },
  {
   "cell_type": "code",
   "execution_count": 48,
   "metadata": {},
   "outputs": [
    {
     "data": {
      "text/html": [
       "<div>\n",
       "<style scoped>\n",
       "    .dataframe tbody tr th:only-of-type {\n",
       "        vertical-align: middle;\n",
       "    }\n",
       "\n",
       "    .dataframe tbody tr th {\n",
       "        vertical-align: top;\n",
       "    }\n",
       "\n",
       "    .dataframe thead th {\n",
       "        text-align: right;\n",
       "    }\n",
       "</style>\n",
       "<table border=\"1\" class=\"dataframe\">\n",
       "  <thead>\n",
       "    <tr style=\"text-align: right;\">\n",
       "      <th></th>\n",
       "      <th>JobId</th>\n",
       "      <th>CvId</th>\n",
       "      <th>Label</th>\n",
       "    </tr>\n",
       "  </thead>\n",
       "  <tbody>\n",
       "    <tr>\n",
       "      <td>0</td>\n",
       "      <td>490619</td>\n",
       "      <td>11702287</td>\n",
       "      <td>1</td>\n",
       "    </tr>\n",
       "    <tr>\n",
       "      <td>1</td>\n",
       "      <td>490619</td>\n",
       "      <td>100819267</td>\n",
       "      <td>1</td>\n",
       "    </tr>\n",
       "    <tr>\n",
       "      <td>2</td>\n",
       "      <td>490619</td>\n",
       "      <td>105843622</td>\n",
       "      <td>1</td>\n",
       "    </tr>\n",
       "    <tr>\n",
       "      <td>3</td>\n",
       "      <td>490619</td>\n",
       "      <td>106155661</td>\n",
       "      <td>1</td>\n",
       "    </tr>\n",
       "    <tr>\n",
       "      <td>4</td>\n",
       "      <td>490619</td>\n",
       "      <td>108241683</td>\n",
       "      <td>1</td>\n",
       "    </tr>\n",
       "    <tr>\n",
       "      <td>...</td>\n",
       "      <td>...</td>\n",
       "      <td>...</td>\n",
       "      <td>...</td>\n",
       "    </tr>\n",
       "    <tr>\n",
       "      <td>9909</td>\n",
       "      <td>2199387</td>\n",
       "      <td>5592918</td>\n",
       "      <td>0</td>\n",
       "    </tr>\n",
       "    <tr>\n",
       "      <td>9910</td>\n",
       "      <td>2199387</td>\n",
       "      <td>6450952</td>\n",
       "      <td>0</td>\n",
       "    </tr>\n",
       "    <tr>\n",
       "      <td>9911</td>\n",
       "      <td>2199387</td>\n",
       "      <td>6459447</td>\n",
       "      <td>0</td>\n",
       "    </tr>\n",
       "    <tr>\n",
       "      <td>9912</td>\n",
       "      <td>2199387</td>\n",
       "      <td>6485644</td>\n",
       "      <td>0</td>\n",
       "    </tr>\n",
       "    <tr>\n",
       "      <td>9913</td>\n",
       "      <td>2199387</td>\n",
       "      <td>6685769</td>\n",
       "      <td>0</td>\n",
       "    </tr>\n",
       "  </tbody>\n",
       "</table>\n",
       "<p>9914 rows × 3 columns</p>\n",
       "</div>"
      ],
      "text/plain": [
       "        JobId       CvId  Label\n",
       "0      490619   11702287      1\n",
       "1      490619  100819267      1\n",
       "2      490619  105843622      1\n",
       "3      490619  106155661      1\n",
       "4      490619  108241683      1\n",
       "...       ...        ...    ...\n",
       "9909  2199387    5592918      0\n",
       "9910  2199387    6450952      0\n",
       "9911  2199387    6459447      0\n",
       "9912  2199387    6485644      0\n",
       "9913  2199387    6685769      0\n",
       "\n",
       "[9914 rows x 3 columns]"
      ]
     },
     "execution_count": 48,
     "metadata": {},
     "output_type": "execute_result"
    }
   ],
   "source": [
    "dfff"
   ]
  },
  {
   "cell_type": "code",
   "execution_count": 49,
   "metadata": {},
   "outputs": [],
   "source": [
    "info_list=[]"
   ]
  },
  {
   "cell_type": "code",
   "execution_count": 50,
   "metadata": {},
   "outputs": [
    {
     "data": {
      "text/plain": [
       "9549"
      ]
     },
     "execution_count": 50,
     "metadata": {},
     "output_type": "execute_result"
    }
   ],
   "source": [
    "counter = 0\n",
    "for i in range(len(dfff)):\n",
    "    label = int(dfff.iloc[i:i+1,:].Label)\n",
    "    \n",
    "    cv_ref = int(dfff.iloc[i:i+1,:].CvId)  \n",
    "    cv_index = df[df.Ref == cv_ref].index\n",
    "    \n",
    "    \n",
    "\n",
    "    job_id = int(dfff.iloc[i:i+1,:].JobId)    \n",
    "    job_index = int(dff[dff.JobId == job_id].index[0])   \n",
    "    \n",
    "    \n",
    "    \n",
    "    try:\n",
    "        cv_index = cv_index[0]\n",
    "        info_list.append((cv_index,job_index,label))\n",
    "    \n",
    "        counter += 1 \n",
    "        \n",
    "    except:\n",
    "        pass\n",
    "counter"
   ]
  },
  {
   "cell_type": "code",
   "execution_count": 51,
   "metadata": {},
   "outputs": [],
   "source": [
    "del df,dff,dfff"
   ]
  },
  {
   "cell_type": "code",
   "execution_count": 52,
   "metadata": {},
   "outputs": [],
   "source": [
    "dictionary = {\"count_vec_cv\": cv_allresume, \"count_vec_job\": cv_jobs, \"tfidf_cv\" : tf_allresume, \"tfidf_jobs\" : tf_jobs, 'applications' : info_list}\n",
    "\n",
    "import pickle\n",
    "import dbm\n",
    "def create_database(filename, datas):\n",
    "    db = dbm.open(filename, 'c')\n",
    "    db[\"list\"] = pickle.dumps(datas)\n",
    "    \n",
    "def read_from_db(filename):\n",
    "    db = dbm.open(filename, 'r')\n",
    "    m = pickle.loads(db[\"list\"])\n",
    "    return m\n",
    "\n",
    "create_database(\"dictionary\",dictionary)\n",
    "\n"
   ]
  },
  {
   "cell_type": "code",
   "execution_count": 53,
   "metadata": {},
   "outputs": [
    {
     "ename": "NameError",
     "evalue": "name 'stop' is not defined",
     "output_type": "error",
     "traceback": [
      "\u001b[1;31m---------------------------------------------------------------------------\u001b[0m",
      "\u001b[1;31mNameError\u001b[0m                                 Traceback (most recent call last)",
      "\u001b[1;32m<ipython-input-53-4f76a9dad686>\u001b[0m in \u001b[0;36m<module>\u001b[1;34m\u001b[0m\n\u001b[1;32m----> 1\u001b[1;33m \u001b[0mstop\u001b[0m\u001b[1;33m\u001b[0m\u001b[1;33m\u001b[0m\u001b[0m\n\u001b[0m",
      "\u001b[1;31mNameError\u001b[0m: name 'stop' is not defined"
     ]
    }
   ],
   "source": [
    "stop"
   ]
  },
  {
   "cell_type": "code",
   "execution_count": null,
   "metadata": {},
   "outputs": [],
   "source": [
    "for i in info_list:\n",
    "    cv = tf_allresume[i[0]].toarray()[0]\n",
    "    job = tf_jobs[i[1]].toarray()[0]\n",
    "    \n",
    "    label = np.array([i[2]])\n",
    "    merged = [*cv,*job,*label]\n",
    "    dataframe.append(merged)\n",
    "    "
   ]
  },
  {
   "cell_type": "code",
   "execution_count": null,
   "metadata": {},
   "outputs": [],
   "source": []
  }
 ],
 "metadata": {
  "colab": {
   "collapsed_sections": [
    "nxrPiPNjT3X2"
   ],
   "machine_shape": "hm",
   "name": "Untitled.ipynb",
   "provenance": []
  },
  "kernelspec": {
   "display_name": "Python 3",
   "language": "python",
   "name": "python3"
  },
  "language_info": {
   "codemirror_mode": {
    "name": "ipython",
    "version": 3
   },
   "file_extension": ".py",
   "mimetype": "text/x-python",
   "name": "python",
   "nbconvert_exporter": "python",
   "pygments_lexer": "ipython3",
   "version": "3.7.4"
  }
 },
 "nbformat": 4,
 "nbformat_minor": 1
}
